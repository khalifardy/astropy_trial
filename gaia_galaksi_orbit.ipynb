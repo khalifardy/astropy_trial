{
 "cells": [
  {
   "cell_type": "code",
   "execution_count": 4,
   "metadata": {},
   "outputs": [],
   "source": [
    "#astropy library\n",
    "import astropy.coordinates as coord\n",
    "from astropy.table import QTable\n",
    "import astropy.units as u\n",
    "from astroquery.gaia import Gaia\n",
    "\n",
    "#third-party imports\n",
    "import matplotlib as mpl\n",
    "import matplotlib.pyplot as plt\n",
    "import numpy as np\n",
    "\n",
    "#gala imports\n",
    "import gala.coordinates as gc\n",
    "import gala.dynamics as gd\n",
    "import gala.potential as gp\n",
    "from gala.units import galactic"
   ]
  },
  {
   "cell_type": "markdown",
   "metadata": {},
   "source": [
    "#LATAR BELAKANG ILMIAH\n",
    "Misi Gaia adalah misi ESA yang bertujuan untuk mengukur posisi 3D dan kecepatan sejumlah besar bintang di seluruh Bima Sakti. Tujuan misi utama adalah untuk memungkinkan mempelajari pembentukan, struktur, dan sejarah evolusi Galaksi kita dengan mengukur astrometri (posisi langit, paralaks, dan gerakan yang tepat) untuk sekitar 2 miliar bintang lebih terang dari Gaia G-band besarnya fotometrik G ≲ 21.Pada akhir misi (~ 2022), Gaia juga akan menyediakan fotometri multi-band dan spektrofotometri resolusi rendah untuk sumber-sumber ini, bersama dengan kecepatan radial atau line-of-sight untuk subsampel sekitar 100 juta bintang.\n",
    "\n",
    "Pada April 2018, Gaia secara terbuka merilis katalog data utama pertamanya — rilis data 2 atau DR2 — yang menyediakan subset data ini kepada siapa pun yang memiliki koneksi internet. Dalam tutorial ini, kita akan menggunakan astrometri, kecepatan radial, dan fotometri untuk subset kecil DR2 untuk mempelajari kinematika berbagai jenis bintang di Bima Sakti."
   ]
  },
  {
   "cell_type": "code",
   "execution_count": 7,
   "metadata": {},
   "outputs": [],
   "source": [
    "query_text = '''SELECT TOP 4096 ra, dec, parallax, pmra, pmdec, radial_velocity,\n",
    "phot_g_mean_mag, phot_bp_mean_mag, phot_rp_mean_mag\n",
    "FROM gaiadr2.gaia_source\n",
    "WHERE parallax_over_error > 10 AND\n",
    "    parallax > 10 AND\n",
    "    radial_velocity IS NOT null\n",
    "ORDER BY random_index\n",
    "'''\n",
    "job = Gaia.launch_job(query_text)\n",
    "gaia_data = job.get_results()\n",
    "gaia_data.write('gaia_data.fits')\n"
   ]
  },
  {
   "cell_type": "code",
   "execution_count": 8,
   "metadata": {},
   "outputs": [],
   "source": [
    "gaia_data = QTable.read('gaia_data.fits')"
   ]
  },
  {
   "cell_type": "code",
   "execution_count": 9,
   "metadata": {},
   "outputs": [
    {
     "data": {
      "text/html": [
       "<div><i>QTable length=4</i>\n",
       "<table id=\"table139833209851344\" class=\"table-striped table-bordered table-condensed\">\n",
       "<thead><tr><th>ra</th><th>dec</th><th>parallax</th><th>pmra</th><th>pmdec</th><th>radial_velocity</th><th>phot_g_mean_mag</th><th>phot_bp_mean_mag</th><th>phot_rp_mean_mag</th></tr></thead>\n",
       "<thead><tr><th>deg</th><th>deg</th><th>mas</th><th>mas / yr</th><th>mas / yr</th><th>km / s</th><th>mag</th><th>mag</th><th>mag</th></tr></thead>\n",
       "<thead><tr><th>float64</th><th>float64</th><th>float64</th><th>float64</th><th>float64</th><th>float64</th><th>float32</th><th>float32</th><th>float32</th></tr></thead>\n",
       "<tr><td>256.8370985186671</td><td>46.5081010273448</td><td>10.770964834345387</td><td>-19.76657104695835</td><td>55.92605676622464</td><td>-17.673072044811907</td><td>12.956912994384766</td><td>14.192928314208984</td><td>11.859498023986816</td></tr>\n",
       "<tr><td>129.45826809010867</td><td>-6.806694022293258</td><td>41.081670013380716</td><td>-297.34595349374183</td><td>43.83424795415093</td><td>35.53814452290586</td><td>6.576352119445801</td><td>6.931065082550049</td><td>6.111272811889648</td></tr>\n",
       "<tr><td>2.317856723637118</td><td>9.00699655780345</td><td>17.824765284426462</td><td>-171.8278607514459</td><td>-1083.8740928197751</td><td>-148.91780163518774</td><td>13.119074821472168</td><td>13.968703269958496</td><td>12.223302841186523</td></tr>\n",
       "<tr><td>330.41287472805976</td><td>51.88897801553169</td><td>13.0756133009657</td><td>-85.30745872006916</td><td>-34.23366534215265</td><td>-28.726469345049587</td><td>12.101919174194336</td><td>13.05264949798584</td><td>11.149785995483398</td></tr>\n",
       "</table></div>"
      ],
      "text/plain": [
       "<QTable length=4>\n",
       "        ra                dec         ...  phot_bp_mean_mag   phot_rp_mean_mag \n",
       "       deg                deg         ...        mag                mag        \n",
       "     float64            float64       ...      float32            float32      \n",
       "------------------ ------------------ ... ------------------ ------------------\n",
       " 256.8370985186671   46.5081010273448 ... 14.192928314208984 11.859498023986816\n",
       "129.45826809010867 -6.806694022293258 ...  6.931065082550049  6.111272811889648\n",
       " 2.317856723637118   9.00699655780345 ... 13.968703269958496 12.223302841186523\n",
       "330.41287472805976  51.88897801553169 ...  13.05264949798584 11.149785995483398"
      ]
     },
     "execution_count": 9,
     "metadata": {},
     "output_type": "execute_result"
    }
   ],
   "source": [
    "gaia_data[:4]"
   ]
  },
  {
   "cell_type": "code",
   "execution_count": 10,
   "metadata": {},
   "outputs": [
    {
     "data": {
      "text/plain": [
       "(<Distance 8.79909291 pc>, <Distance 99.99985292 pc>)"
      ]
     },
     "execution_count": 10,
     "metadata": {},
     "output_type": "execute_result"
    }
   ],
   "source": [
    "dist = coord.Distance(parallax=u.Quantity(gaia_data['parallax']))\n",
    "dist.min(), dist.max()\n"
   ]
  },
  {
   "cell_type": "code",
   "execution_count": 11,
   "metadata": {},
   "outputs": [],
   "source": [
    "c = coord.SkyCoord(ra=gaia_data['ra'], \n",
    "                   dec=gaia_data['dec'],\n",
    "                   distance=dist,\n",
    "                   pm_ra_cosdec=gaia_data['pmra'], \n",
    "                   pm_dec=gaia_data['pmdec'],\n",
    "                   radial_velocity=gaia_data['radial_velocity'])"
   ]
  },
  {
   "cell_type": "code",
   "execution_count": 12,
   "metadata": {},
   "outputs": [
    {
     "data": {
      "text/plain": [
       "<SkyCoord (ICRS): (ra, dec, distance) in (deg, deg, pc)\n",
       "    [(256.83709852, 46.50810103, 92.84219338),\n",
       "     (129.45826809, -6.80669402, 24.3417563 ),\n",
       "     (  2.31785672,  9.00699656, 56.1017205 ),\n",
       "     (330.41287473, 51.88897802, 76.47824825)]\n",
       " (pm_ra_cosdec, pm_dec, radial_velocity) in (mas / yr, mas / yr, km / s)\n",
       "    [( -19.76657105,    55.92605677,  -17.67307204),\n",
       "     (-297.34595349,    43.83424795,   35.53814452),\n",
       "     (-171.82786075, -1083.87409282, -148.91780164),\n",
       "     ( -85.30745872,   -34.23366534,  -28.72646935)]>"
      ]
     },
     "execution_count": 12,
     "metadata": {},
     "output_type": "execute_result"
    }
   ],
   "source": [
    "c[:4]"
   ]
  }
 ],
 "metadata": {
  "kernelspec": {
   "display_name": ".env",
   "language": "python",
   "name": "python3"
  },
  "language_info": {
   "codemirror_mode": {
    "name": "ipython",
    "version": 3
   },
   "file_extension": ".py",
   "mimetype": "text/x-python",
   "name": "python",
   "nbconvert_exporter": "python",
   "pygments_lexer": "ipython3",
   "version": "3.12.2"
  }
 },
 "nbformat": 4,
 "nbformat_minor": 2
}
